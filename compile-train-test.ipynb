{
 "cells": [
  {
   "cell_type": "code",
   "execution_count": null,
   "metadata": {},
   "outputs": [
    {
     "name": "stderr",
     "output_type": "stream",
     "text": [
      "W0824 20:59:47.031233 140066736965440 deprecation_wrapper.py:119] From /c/Users/de/perperikon/src/generative-deep-learning/generative/lib/python3.6/site-packages/keras/optimizers.py:790: The name tf.train.Optimizer is deprecated. Please use tf.compat.v1.train.Optimizer instead.\n",
      "\n",
      "W0824 20:59:47.102712 140066736965440 deprecation.py:323] From /c/Users/de/perperikon/src/generative-deep-learning/generative/lib/python3.6/site-packages/tensorflow/python/ops/math_grad.py:1250: add_dispatch_support.<locals>.wrapper (from tensorflow.python.ops.array_ops) is deprecated and will be removed in a future version.\n",
      "Instructions for updating:\n",
      "Use tf.where in 2.0, which has the same broadcast rule as np.where\n"
     ]
    },
    {
     "name": "stdout",
     "output_type": "stream",
     "text": [
      "Epoch 1/10\n",
      "50000/50000 [==============================] - 10s 193us/step - loss: 1.8398 - acc: 0.3380\n",
      "Epoch 2/10\n",
      "50000/50000 [==============================] - 9s 184us/step - loss: 1.6623 - acc: 0.4061\n",
      "Epoch 3/10\n",
      "50000/50000 [==============================] - 9s 184us/step - loss: 1.5807 - acc: 0.4401\n",
      "Epoch 4/10\n",
      "50000/50000 [==============================] - 9s 190us/step - loss: 1.5327 - acc: 0.4555\n",
      "Epoch 5/10\n",
      "50000/50000 [==============================] - 10s 192us/step - loss: 1.4931 - acc: 0.4682\n",
      "Epoch 6/10\n",
      "50000/50000 [==============================] - 10s 196us/step - loss: 1.4546 - acc: 0.4831\n",
      "Epoch 7/10\n",
      "  864/50000 [..............................] - ETA: 9s - loss: 1.4080 - acc: 0.5000 "
     ]
    }
   ],
   "source": [
    "from gedelearn import train, view, compile\n",
    "view.show()\n",
    "compile.compile()\n",
    "train.train()\n",
    "view.show()"
   ]
  }
 ],
 "metadata": {
  "kernelspec": {
   "display_name": "generative",
   "language": "python",
   "name": "generative"
  },
  "language_info": {
   "codemirror_mode": {
    "name": "ipython",
    "version": 3
   },
   "file_extension": ".py",
   "mimetype": "text/x-python",
   "name": "python",
   "nbconvert_exporter": "python",
   "pygments_lexer": "ipython3",
   "version": "3.6.8"
  }
 },
 "nbformat": 4,
 "nbformat_minor": 2
}
