{
 "cells": [
  {
   "cell_type": "code",
   "execution_count": null,
   "metadata": {
    "scrolled": false
   },
   "outputs": [
    {
     "name": "stderr",
     "output_type": "stream",
     "text": [
      "Using TensorFlow backend.\n",
      "W0824 21:25:39.885674 140406490924864 deprecation_wrapper.py:119] From /c/Users/de/perperikon/src/generative-deep-learning/generative/lib/python3.6/site-packages/keras/backend/tensorflow_backend.py:74: The name tf.get_default_graph is deprecated. Please use tf.compat.v1.get_default_graph instead.\n",
      "\n",
      "W0824 21:25:39.954124 140406490924864 deprecation_wrapper.py:119] From /c/Users/de/perperikon/src/generative-deep-learning/generative/lib/python3.6/site-packages/keras/backend/tensorflow_backend.py:517: The name tf.placeholder is deprecated. Please use tf.compat.v1.placeholder instead.\n",
      "\n",
      "W0824 21:25:39.957135 140406490924864 deprecation_wrapper.py:119] From /c/Users/de/perperikon/src/generative-deep-learning/generative/lib/python3.6/site-packages/keras/backend/tensorflow_backend.py:4138: The name tf.random_uniform is deprecated. Please use tf.random.uniform instead.\n",
      "\n",
      "W0824 21:25:40.028827 140406490924864 deprecation_wrapper.py:119] From /c/Users/de/perperikon/src/generative-deep-learning/generative/lib/python3.6/site-packages/keras/optimizers.py:790: The name tf.train.Optimizer is deprecated. Please use tf.compat.v1.train.Optimizer instead.\n",
      "\n",
      "W0824 21:25:40.036712 140406490924864 deprecation_wrapper.py:119] From /c/Users/de/perperikon/src/generative-deep-learning/generative/lib/python3.6/site-packages/keras/backend/tensorflow_backend.py:3295: The name tf.log is deprecated. Please use tf.math.log instead.\n",
      "\n",
      "W0824 21:25:40.129072 140406490924864 deprecation.py:323] From /c/Users/de/perperikon/src/generative-deep-learning/generative/lib/python3.6/site-packages/tensorflow/python/ops/math_grad.py:1250: add_dispatch_support.<locals>.wrapper (from tensorflow.python.ops.array_ops) is deprecated and will be removed in a future version.\n",
      "Instructions for updating:\n",
      "Use tf.where in 2.0, which has the same broadcast rule as np.where\n",
      "W0824 21:25:40.189999 140406490924864 deprecation_wrapper.py:119] From /c/Users/de/perperikon/src/generative-deep-learning/generative/lib/python3.6/site-packages/keras/backend/tensorflow_backend.py:986: The name tf.assign_add is deprecated. Please use tf.compat.v1.assign_add instead.\n",
      "\n"
     ]
    },
    {
     "name": "stdout",
     "output_type": "stream",
     "text": [
      "Epoch 1/10\n",
      " 1088/50000 [..............................] - ETA: 46:32 - loss: 3.2381 - acc: 0.1305"
     ]
    }
   ],
   "source": [
    "from gedelearn import train, view, compile, model as m\n",
    "\n",
    "model = m.get_model_sequential()\n",
    "compile.compile(model)\n",
    "train.train(model)\n",
    "view.show(model)"
   ]
  },
  {
   "cell_type": "code",
   "execution_count": null,
   "metadata": {},
   "outputs": [],
   "source": []
  }
 ],
 "metadata": {
  "kernelspec": {
   "display_name": "generative",
   "language": "python",
   "name": "generative"
  },
  "language_info": {
   "codemirror_mode": {
    "name": "ipython",
    "version": 3
   },
   "file_extension": ".py",
   "mimetype": "text/x-python",
   "name": "python",
   "nbconvert_exporter": "python",
   "pygments_lexer": "ipython3",
   "version": "3.6.8"
  }
 },
 "nbformat": 4,
 "nbformat_minor": 2
}
